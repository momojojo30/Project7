{
  "nbformat": 4,
  "nbformat_minor": 0,
  "metadata": {
    "colab": {
      "provenance": []
    },
    "kernelspec": {
      "name": "python3",
      "display_name": "Python 3"
    },
    "language_info": {
      "name": "python"
    }
  },
  "cells": [
    {
      "cell_type": "code",
      "execution_count": null,
      "metadata": {
        "id": "xRAj-RO_n6fp"
      },
      "outputs": [],
      "source": [
        "##########\n",
        "\n",
        "## Project: Using Autoencoders to Reproduce and Denoise Images\n",
        "\n",
        "##########"
      ]
    },
    {
      "cell_type": "code",
      "source": [],
      "metadata": {
        "id": "A_VgrixoHCs9"
      },
      "execution_count": null,
      "outputs": []
    },
    {
      "cell_type": "markdown",
      "source": [
        "# Part 1- Autoencoders to Reproduce Images"
      ],
      "metadata": {
        "id": "ngn6jKO0HDxG"
      }
    },
    {
      "cell_type": "code",
      "source": [
        "# import packages"
      ],
      "metadata": {
        "id": "x9q_0McM_6l2"
      },
      "execution_count": null,
      "outputs": []
    },
    {
      "cell_type": "code",
      "execution_count": null,
      "metadata": {
        "id": "TJp5lU9aXplE"
      },
      "outputs": [],
      "source": [
        "import pandas as pd\n",
        "import numpy as np\n",
        "import matplotlib.pyplot as plt"
      ]
    },
    {
      "cell_type": "code",
      "execution_count": null,
      "metadata": {
        "id": "8whRsin6XplI"
      },
      "outputs": [],
      "source": [
        "from tensorflow.keras.datasets import mnist"
      ]
    },
    {
      "cell_type": "code",
      "source": [
        "# import MNIST dataset"
      ],
      "metadata": {
        "id": "CrJQ642LAAZR"
      },
      "execution_count": null,
      "outputs": []
    },
    {
      "cell_type": "code",
      "execution_count": null,
      "metadata": {
        "id": "IWxUskVDXplJ"
      },
      "outputs": [],
      "source": [
        "(X_train, y_train), (X_test, y_test) = mnist.load_data()"
      ]
    },
    {
      "cell_type": "code",
      "source": [
        "# take a look at a sample image in train set"
      ],
      "metadata": {
        "id": "L4_sN7U6ADv4"
      },
      "execution_count": null,
      "outputs": []
    },
    {
      "cell_type": "code",
      "execution_count": null,
      "metadata": {
        "id": "eb4pJtstXplL",
        "outputId": "996c86f6-0bca-41b3-a2c6-0249324292e2",
        "colab": {
          "base_uri": "https://localhost:8080/",
          "height": 282
        }
      },
      "outputs": [
        {
          "output_type": "execute_result",
          "data": {
            "text/plain": [
              "<matplotlib.image.AxesImage at 0x7f113f452fd0>"
            ]
          },
          "metadata": {},
          "execution_count": 23
        },
        {
          "output_type": "display_data",
          "data": {
            "text/plain": [
              "<Figure size 432x288 with 1 Axes>"
            ],
            "image/png": "[encoded data removed]"
          },
          "metadata": {
            "needs_background": "light"
          }
        }
      ],
      "source": [
        "plt.imshow(X_train[0])"
      ]
    },
    {
      "cell_type": "code",
      "source": [
        "X_train[0].shape"
      ],
      "metadata": {
        "colab": {
          "base_uri": "https://localhost:8080/"
        },
        "id": "QorV4cvOAQov",
        "outputId": "641fef4e-25be-4bd2-ade9-f6d1620c43c4"
      },
      "execution_count": null,
      "outputs": [
        {
          "output_type": "execute_result",
          "data": {
            "text/plain": [
              "(28, 28)"
            ]
          },
          "metadata": {},
          "execution_count": 24
        }
      ]
    },
    {
      "cell_type": "code",
      "source": [
        "X_train[0].max()"
      ],
      "metadata": {
        "colab": {
          "base_uri": "https://localhost:8080/"
        },
        "id": "CwBl1IyxAfPp",
        "outputId": "656e2ea7-65ce-41be-9c9e-da85afc619fc"
      },
      "execution_count": null,
      "outputs": [
        {
          "output_type": "execute_result",
          "data": {
            "text/plain": [
              "255"
            ]
          },
          "metadata": {},
          "execution_count": 25
        }
      ]
    },
    {
      "cell_type": "code",
      "source": [
        "X_train[0].min()"
      ],
      "metadata": {
        "colab": {
          "base_uri": "https://localhost:8080/"
        },
        "id": "R6q2gDnrAmZf",
        "outputId": "d1519935-4534-4e95-99c1-f971ba07b302"
      },
      "execution_count": null,
      "outputs": [
        {
          "output_type": "execute_result",
          "data": {
            "text/plain": [
              "0"
            ]
          },
          "metadata": {},
          "execution_count": 26
        }
      ]
    },
    {
      "cell_type": "code",
      "source": [
        "# Comment: we need to rescale our images, in this case by dividing our numpy arrays by 255"
      ],
      "metadata": {
        "id": "gimr-nd8ANEB"
      },
      "execution_count": null,
      "outputs": []
    },
    {
      "cell_type": "code",
      "execution_count": null,
      "metadata": {
        "id": "PMqQGfYTXplN"
      },
      "outputs": [],
      "source": [
        "X_train = X_train/255\n",
        "X_test = X_test/255"
      ]
    },
    {
      "cell_type": "code",
      "source": [
        "# Now let's build our autoencoder model"
      ],
      "metadata": {
        "id": "tjlwu5q0HcD6"
      },
      "execution_count": null,
      "outputs": []
    },
    {
      "cell_type": "code",
      "source": [
        "# import packages"
      ],
      "metadata": {
        "id": "HFcNP_E3BEhO"
      },
      "execution_count": null,
      "outputs": []
    },
    {
      "cell_type": "code",
      "execution_count": null,
      "metadata": {
        "id": "P5LhIxiIXplQ"
      },
      "outputs": [],
      "source": [
        "from tensorflow.keras.models import Sequential\n",
        "from tensorflow.keras.layers import Dense,Flatten,Reshape\n",
        "from tensorflow.keras.optimizers import SGD"
      ]
    },
    {
      "cell_type": "code",
      "execution_count": null,
      "metadata": {
        "id": "eJitUY7_XplT",
        "outputId": "abbac5da-ba67-4427-b059-3c039b8ad26c",
        "colab": {
          "base_uri": "https://localhost:8080/"
        }
      },
      "outputs": [
        {
          "output_type": "execute_result",
          "data": {
            "text/plain": [
              "391.5"
            ]
          },
          "metadata": {},
          "execution_count": 29
        }
      ],
      "source": [
        "# how much dimensionality reduction is enough(yet not excessive)?\n",
        "(783/2)"
      ]
    },
    {
      "cell_type": "code",
      "execution_count": null,
      "metadata": {
        "id": "cGjeDlMmXplV"
      },
      "outputs": [],
      "source": [
        "encoder = Sequential()\n",
        "encoder.add(Flatten(input_shape=[28,28]))\n",
        "encoder.add(Dense(400,activation=\"relu\"))\n",
        "encoder.add(Dense(200,activation=\"relu\"))\n",
        "encoder.add(Dense(100,activation=\"relu\"))\n",
        "encoder.add(Dense(50,activation=\"relu\"))\n",
        "encoder.add(Dense(25,activation=\"relu\"))"
      ]
    },
    {
      "cell_type": "code",
      "execution_count": null,
      "metadata": {
        "id": "mGekP2u5XplY"
      },
      "outputs": [],
      "source": [
        "decoder = Sequential()\n",
        "decoder.add(Dense(50,input_shape=[25],activation='relu'))\n",
        "decoder.add(Dense(100,activation='relu'))\n",
        "decoder.add(Dense(200,activation='relu'))\n",
        "decoder.add(Dense(400,activation='relu'))\n",
        "decoder.add(Dense(28 * 28, activation=\"sigmoid\"))\n",
        "decoder.add(Reshape([28, 28]))"
      ]
    },
    {
      "cell_type": "code",
      "source": [
        "# and now for the autoencoder"
      ],
      "metadata": {
        "id": "vlOOPL6JCB7Y"
      },
      "execution_count": null,
      "outputs": []
    },
    {
      "cell_type": "code",
      "source": [
        "autoencoder = Sequential([encoder, decoder])\n",
        "autoencoder.compile(loss=\"binary_crossentropy\",optimizer=SGD(learning_rate=1.5),metrics=['accuracy'])"
      ],
      "metadata": {
        "id": "NboUK7R_wQvz"
      },
      "execution_count": null,
      "outputs": []
    },
    {
      "cell_type": "code",
      "execution_count": null,
      "metadata": {
        "id": "JaeG16pHXpla",
        "outputId": "06c32427-651b-4245-f568-06f11c70df33"
      },
      "outputs": [
        {
          "name": "stdout",
          "output_type": "stream",
          "text": [
            "Train on 60000 samples, validate on 10000 samples\n",
            "Epoch 1/5\n",
            "60000/60000 [==============================] - 18s 293us/sample - loss: 0.2496 - accuracy: 0.7914 - val_loss: 0.2133 - val_accuracy: 0.7952\n",
            "Epoch 2/5\n",
            "60000/60000 [==============================] - 17s 279us/sample - loss: 0.1872 - accuracy: 0.7977 - val_loss: 0.1687 - val_accuracy: 0.8013\n",
            "Epoch 3/5\n",
            "60000/60000 [==============================] - 16s 274us/sample - loss: 0.1620 - accuracy: 0.8019 - val_loss: 0.1555 - val_accuracy: 0.8021\n",
            "Epoch 4/5\n",
            "60000/60000 [==============================] - 17s 277us/sample - loss: 0.1517 - accuracy: 0.8033 - val_loss: 0.1605 - val_accuracy: 0.7970\n",
            "Epoch 5/5\n",
            "60000/60000 [==============================] - 18s 305us/sample - loss: 0.1442 - accuracy: 0.8046 - val_loss: 0.1385 - val_accuracy: 0.8053\n"
          ]
        },
        {
          "data": {
            "text/plain": [
              "<tensorflow.python.keras.callbacks.History at 0x1ea3ea44c88>"
            ]
          },
          "execution_count": 34,
          "metadata": {},
          "output_type": "execute_result"
        }
      ],
      "source": [
        "autoencoder.fit(X_train, X_train, epochs=5,validation_data=[X_test, X_test])"
      ]
    },
    {
      "cell_type": "code",
      "source": [
        "# now reproduce some test images"
      ],
      "metadata": {
        "id": "yeQkFGSkFaCT"
      },
      "execution_count": null,
      "outputs": []
    },
    {
      "cell_type": "code",
      "execution_count": null,
      "metadata": {
        "id": "RcA-EpZfXplc",
        "colab": {
          "base_uri": "https://localhost:8080/"
        },
        "outputId": "485aaedb-da83-44c9-9180-391d869a76ef"
      },
      "outputs": [
        {
          "output_type": "stream",
          "name": "stdout",
          "text": [
            "1/1 [==============================] - 0s 182ms/step\n"
          ]
        }
      ],
      "source": [
        "passed_images = autoencoder.predict(X_test[:10])"
      ]
    },
    {
      "cell_type": "code",
      "source": [
        "# let's see some reproduced test images and compare with original from test set"
      ],
      "metadata": {
        "id": "nVi74l4_FkB6"
      },
      "execution_count": null,
      "outputs": []
    },
    {
      "cell_type": "code",
      "source": [
        "plt.imshow(passed_images[0])"
      ],
      "metadata": {
        "colab": {
          "base_uri": "https://localhost:8080/",
          "height": 282
        },
        "id": "kmHJO1GvCVnh",
        "outputId": "3f458cd2-e4af-4eb2-d18f-c87c8a7c05f2"
      },
      "execution_count": null,
      "outputs": [
        {
          "output_type": "execute_result",
          "data": {
            "text/plain": [
              "<matplotlib.image.AxesImage at 0x7f111c154b80>"
            ]
          },
          "metadata": {},
          "execution_count": 35
        },
        {
          "output_type": "display_data",
          "data": {
            "text/plain": [
              "<Figure size 432x288 with 1 Axes>"
            ],
            "image/png": "[encoded data removed]"
          },
          "metadata": {
            "needs_background": "light"
          }
        }
      ]
    },
    {
      "cell_type": "code",
      "execution_count": null,
      "metadata": {
        "id": "hVDhUf4dXpld",
        "outputId": "5b7b52d7-7bb4-4c96-9871-adce95539604",
        "colab": {
          "base_uri": "https://localhost:8080/",
          "height": 282
        }
      },
      "outputs": [
        {
          "output_type": "execute_result",
          "data": {
            "text/plain": [
              "<matplotlib.image.AxesImage at 0x7f111c0b4250>"
            ]
          },
          "metadata": {},
          "execution_count": 36
        },
        {
          "output_type": "display_data",
          "data": {
            "text/plain": [
              "<Figure size 432x288 with 1 Axes>"
            ],
            "image/png": "[encoded data removed]"
          },
          "metadata": {
            "needs_background": "light"
          }
        }
      ],
      "source": [
        "plt.imshow(X_test[0])"
      ]
    },
    {
      "cell_type": "code",
      "source": [
        "# not bad!\n",
        "# let's see another reproduced image"
      ],
      "metadata": {
        "id": "BE_OnE8fFvdD"
      },
      "execution_count": null,
      "outputs": []
    },
    {
      "cell_type": "code",
      "source": [
        "plt.imshow(passed_images[1])"
      ],
      "metadata": {
        "colab": {
          "base_uri": "https://localhost:8080/",
          "height": 282
        },
        "id": "iFFZstgbDhmE",
        "outputId": "0f4bf8d9-1cbb-4052-bb8f-e1d342dd1fd9"
      },
      "execution_count": null,
      "outputs": [
        {
          "output_type": "execute_result",
          "data": {
            "text/plain": [
              "<matplotlib.image.AxesImage at 0x7f111c079a30>"
            ]
          },
          "metadata": {},
          "execution_count": 37
        },
        {
          "output_type": "display_data",
          "data": {
            "text/plain": [
              "<Figure size 432x288 with 1 Axes>"
            ],
            "image/png": "[encoded data removed]"
          },
          "metadata": {
            "needs_background": "light"
          }
        }
      ]
    },
    {
      "cell_type": "code",
      "source": [
        "plt.imshow(X_test[1])"
      ],
      "metadata": {
        "colab": {
          "base_uri": "https://localhost:8080/",
          "height": 282
        },
        "id": "Vo3OoUfuDkt9",
        "outputId": "1e50476c-994e-4ad0-97ff-14ffe699e241"
      },
      "execution_count": null,
      "outputs": [
        {
          "output_type": "execute_result",
          "data": {
            "text/plain": [
              "<matplotlib.image.AxesImage at 0x7f1114faa5b0>"
            ]
          },
          "metadata": {},
          "execution_count": 39
        },
        {
          "output_type": "display_data",
          "data": {
            "text/plain": [
              "<Figure size 432x288 with 1 Axes>"
            ],
            "image/png": "[encoded data removed]"
          },
          "metadata": {
            "needs_background": "light"
          }
        }
      ]
    },
    {
      "cell_type": "code",
      "source": [
        "# and now to Part 2.."
      ],
      "metadata": {
        "id": "Qa1d-QpjGMNp"
      },
      "execution_count": null,
      "outputs": []
    },
    {
      "cell_type": "markdown",
      "metadata": {
        "id": "8ds1XyNYXplf"
      },
      "source": [
        "# Part 2- Denoising Images with Autoencoders"
      ]
    },
    {
      "cell_type": "code",
      "execution_count": null,
      "metadata": {
        "id": "PeWENntVXplf"
      },
      "outputs": [],
      "source": [
        "from tensorflow.keras.layers import GaussianNoise"
      ]
    },
    {
      "cell_type": "code",
      "source": [
        "# let's create a noisy version of some images"
      ],
      "metadata": {
        "id": "9c8jbLRkHurw"
      },
      "execution_count": null,
      "outputs": []
    },
    {
      "cell_type": "code",
      "execution_count": null,
      "metadata": {
        "id": "hDfK8Q6mXplg"
      },
      "outputs": [],
      "source": [
        "sample = GaussianNoise(0.2)"
      ]
    },
    {
      "cell_type": "code",
      "execution_count": null,
      "metadata": {
        "id": "6cNDPu8KXplg"
      },
      "outputs": [],
      "source": [
        "noisey = sample(X_test[0:2],training=True)"
      ]
    },
    {
      "cell_type": "code",
      "source": [
        "# now let's visualize the original versus the noisier image counterpart"
      ],
      "metadata": {
        "id": "-lVu92UzH1ji"
      },
      "execution_count": null,
      "outputs": []
    },
    {
      "cell_type": "code",
      "execution_count": null,
      "metadata": {
        "id": "56sE1uujXplh",
        "outputId": "58cbdd40-eb37-469b-d30b-48e7fb83805e",
        "colab": {
          "base_uri": "https://localhost:8080/",
          "height": 282
        }
      },
      "outputs": [
        {
          "output_type": "execute_result",
          "data": {
            "text/plain": [
              "<matplotlib.image.AxesImage at 0x7f1114f13f70>"
            ]
          },
          "metadata": {},
          "execution_count": 44
        },
        {
          "output_type": "display_data",
          "data": {
            "text/plain": [
              "<Figure size 432x288 with 1 Axes>"
            ],
            "image/png": "[encoded data removed]"
          },
          "metadata": {
            "needs_background": "light"
          }
        }
      ],
      "source": [
        "plt.imshow(X_test[0])"
      ]
    },
    {
      "cell_type": "code",
      "execution_count": null,
      "metadata": {
        "id": "b07d62V4Xpli",
        "outputId": "1197add3-ab16-4fba-9cb4-4e9ea803aa81",
        "colab": {
          "base_uri": "https://localhost:8080/",
          "height": 282
        }
      },
      "outputs": [
        {
          "output_type": "execute_result",
          "data": {
            "text/plain": [
              "<matplotlib.image.AxesImage at 0x7f1114e925b0>"
            ]
          },
          "metadata": {},
          "execution_count": 45
        },
        {
          "output_type": "display_data",
          "data": {
            "text/plain": [
              "<Figure size 432x288 with 1 Axes>"
            ],
            "image/png": "[encoded data removed]"
          },
          "metadata": {
            "needs_background": "light"
          }
        }
      ],
      "source": [
        "plt.imshow(noisey[0])"
      ]
    },
    {
      "cell_type": "code",
      "source": [
        "# Following, let's create a noise removal autoencoder that includes a step in which noise is introduced to images"
      ],
      "metadata": {
        "id": "KZ8-wOS1IF3D"
      },
      "execution_count": null,
      "outputs": []
    },
    {
      "cell_type": "code",
      "execution_count": null,
      "metadata": {
        "id": "pV47xj0KXplj"
      },
      "outputs": [],
      "source": [
        "import tensorflow as tf\n",
        "import numpy as np"
      ]
    },
    {
      "cell_type": "code",
      "execution_count": null,
      "metadata": {
        "id": "nuQPsJF4Xplj"
      },
      "outputs": [],
      "source": [
        "tf.random.set_seed(101)\n",
        "np.random.seed(101)\n",
        "\n",
        "\n",
        "encoder = Sequential()\n",
        "encoder.add(Flatten(input_shape=[28,28]))\n",
        "# Add noise to images before going through autoencoder\n",
        "encoder.add(GaussianNoise(0.2))\n",
        "encoder.add(Dense(400,activation=\"relu\"))\n",
        "encoder.add(Dense(200,activation=\"relu\"))\n",
        "encoder.add(Dense(100,activation=\"relu\"))\n",
        "encoder.add(Dense(50,activation=\"relu\"))\n",
        "encoder.add(Dense(25,activation=\"relu\"))"
      ]
    },
    {
      "cell_type": "code",
      "execution_count": null,
      "metadata": {
        "id": "09EJGeiYXplk"
      },
      "outputs": [],
      "source": [
        "decoder = Sequential()\n",
        "decoder.add(Dense(50,input_shape=[25],activation='relu'))\n",
        "decoder.add(Dense(100,activation='relu'))\n",
        "decoder.add(Dense(200,activation='relu'))\n",
        "decoder.add(Dense(400,activation='relu'))\n",
        "decoder.add(Dense(28 * 28, activation=\"sigmoid\"))\n",
        "decoder.add(Reshape([28, 28]))"
      ]
    },
    {
      "cell_type": "code",
      "execution_count": null,
      "metadata": {
        "id": "I72rf6pSXplk"
      },
      "outputs": [],
      "source": [
        "noise_remover = Sequential([encoder, decoder])"
      ]
    },
    {
      "cell_type": "code",
      "execution_count": null,
      "metadata": {
        "id": "mO2jh_xjXpll"
      },
      "outputs": [],
      "source": [
        "noise_remover.compile(loss=\"binary_crossentropy\", optimizer='adam',metrics=['accuracy'])"
      ]
    },
    {
      "cell_type": "code",
      "source": [
        "#now let's fit the model on our train set"
      ],
      "metadata": {
        "id": "xI9grXh_I-uA"
      },
      "execution_count": null,
      "outputs": []
    },
    {
      "cell_type": "code",
      "execution_count": null,
      "metadata": {
        "id": "d5_12iPBXpll",
        "outputId": "4121f60d-7550-49f6-aa6d-30a87410db57"
      },
      "outputs": [
        {
          "name": "stdout",
          "output_type": "stream",
          "text": [
            "Train on 60000 samples, validate on 10000 samples\n",
            "Epoch 1/8\n",
            "60000/60000 [==============================] - 12s 202us/sample - loss: 0.1079 - accuracy: 0.8117 - val_loss: 0.1030 - val_accuracy: 0.8112\n",
            "Epoch 2/8\n",
            "60000/60000 [==============================] - 17s 284us/sample - loss: 0.1061 - accuracy: 0.8119 - val_loss: 0.1028 - val_accuracy: 0.8114\n",
            "Epoch 3/8\n",
            "60000/60000 [==============================] - 19s 313us/sample - loss: 0.1046 - accuracy: 0.8121 - val_loss: 0.1004 - val_accuracy: 0.8118\n",
            "Epoch 4/8\n",
            "60000/60000 [==============================] - 18s 301us/sample - loss: 0.1035 - accuracy: 0.8123 - val_loss: 0.0990 - val_accuracy: 0.8120\n",
            "Epoch 5/8\n",
            "60000/60000 [==============================] - 18s 298us/sample - loss: 0.1025 - accuracy: 0.8124 - val_loss: 0.0989 - val_accuracy: 0.8120\n",
            "Epoch 6/8\n",
            "60000/60000 [==============================] - 18s 296us/sample - loss: 0.1016 - accuracy: 0.8126 - val_loss: 0.0979 - val_accuracy: 0.8120\n",
            "Epoch 7/8\n",
            "60000/60000 [==============================] - 18s 303us/sample - loss: 0.1008 - accuracy: 0.8127 - val_loss: 0.0978 - val_accuracy: 0.8119\n",
            "Epoch 8/8\n",
            "60000/60000 [==============================] - 18s 300us/sample - loss: 0.1001 - accuracy: 0.8128 - val_loss: 0.0973 - val_accuracy: 0.8119\n"
          ]
        },
        {
          "data": {
            "text/plain": [
              "<tensorflow.python.keras.callbacks.History at 0x1aff1abee08>"
            ]
          },
          "execution_count": 62,
          "metadata": {},
          "output_type": "execute_result"
        }
      ],
      "source": [
        "noise_remover.fit(X_train, X_train, epochs=8,\n",
        "                           validation_data=[X_test, X_test])"
      ]
    },
    {
      "cell_type": "code",
      "source": [
        "# now let's take 10 images from test set, add random noise to them, and then apply our noise remover model on them"
      ],
      "metadata": {
        "id": "zuJAOtCWJPwM"
      },
      "execution_count": null,
      "outputs": []
    },
    {
      "cell_type": "code",
      "execution_count": null,
      "metadata": {
        "id": "ALhfuhe6Xpll"
      },
      "outputs": [],
      "source": [
        "ten_noisey_images = sample(X_test[0:10],training=True)\n",
        "denoised = noise_remover(ten_noisey_images[0:10])"
      ]
    },
    {
      "cell_type": "code",
      "source": [
        "# let's visualize some results"
      ],
      "metadata": {
        "id": "l2zn-F4wJeW4"
      },
      "execution_count": null,
      "outputs": []
    },
    {
      "cell_type": "code",
      "execution_count": null,
      "metadata": {
        "id": "XJAuMUlXXplm",
        "outputId": "78e2c31c-f2b3-4c83-a4a6-d9197da2f307",
        "colab": {
          "base_uri": "https://localhost:8080/",
          "height": 813
        }
      },
      "outputs": [
        {
          "output_type": "stream",
          "name": "stdout",
          "text": [
            "The Original\n"
          ]
        },
        {
          "output_type": "display_data",
          "data": {
            "text/plain": [
              "<Figure size 432x288 with 1 Axes>"
            ],
            "image/png": "[encoded data removed]"
          },
          "metadata": {
            "needs_background": "light"
          }
        },
        {
          "output_type": "stream",
          "name": "stdout",
          "text": [
            "The Noisey Version\n"
          ]
        },
        {
          "output_type": "display_data",
          "data": {
            "text/plain": [
              "<Figure size 432x288 with 1 Axes>"
            ],
            "image/png": "[encoded data removed]"
          },
          "metadata": {
            "needs_background": "light"
          }
        },
        {
          "output_type": "stream",
          "name": "stdout",
          "text": [
            "After going through denoiser\n"
          ]
        },
        {
          "output_type": "display_data",
          "data": {
            "text/plain": [
              "<Figure size 432x288 with 1 Axes>"
            ],
            "image/png": "[encoded data removed]"
          },
          "metadata": {
            "needs_background": "light"
          }
        }
      ],
      "source": [
        "n = 1\n",
        "print(\"The Original\")\n",
        "plt.imshow(X_test[n])\n",
        "plt.show()\n",
        "print(\"The Noisey Version\")\n",
        "plt.imshow(ten_noisey_images[n])\n",
        "plt.show()\n",
        "print(\"After going through denoiser\")\n",
        "plt.imshow(denoised[n])\n",
        "plt.show()"
      ]
    },
    {
      "cell_type": "code",
      "source": [
        "# not bad indeed!"
      ],
      "metadata": {
        "id": "MAtRRAHfJp5x"
      },
      "execution_count": null,
      "outputs": []
    }
  ]
}